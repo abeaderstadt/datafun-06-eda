{
 "cells": [
  {
   "cell_type": "markdown",
   "metadata": {},
   "source": [
    "# Alissa Beaderstadt: Exploratory Data Analysis Project 6\n",
    "\n",
    "Author: Alissa Beaderstadt\n",
    "\n",
    "Purpose: Implement Jupyter Notebook to perform exploratory data analysis (EDA) using pandas and other tools. We will use the Seaborn library to load the Car Crashes dataset.\n",
    "\n",
    "Date: 02-17-2025"
   ]
  },
  {
   "cell_type": "markdown",
   "metadata": {},
   "source": [
    "# Introduction\n",
    "Welcome to my notebook! In this project, I'll be diving into the Seaborn Car Crashes dataset. The main goal is to explore the data, spot any patterns, and identify key features.\n",
    "\n",
    "Throughout this notebook, I'll be working with libraries like Pandas, Seaborn, and Matplotlib to load, visualize, and analyze the data. By the end, we will have a clearer understanding of the leading causes of car accidents, and we will go through some cool visualizations that’ll help us make sense of it all.\n",
    "\n",
    "Let’s start this analysis!"
   ]
  },
  {
   "cell_type": "markdown",
   "metadata": {},
   "source": [
    "# Imports\n",
    "Below are the necessary imports for this notebook:"
   ]
  },
  {
   "cell_type": "code",
   "execution_count": 12,
   "metadata": {},
   "outputs": [],
   "source": [
    "import matplotlib.pyplot as plt\n",
    "import pandas as pd\n",
    "import seaborn as sns\n",
    "\n",
    "# Axes object (basic plot type returned by Seaborn)\n",
    "from matplotlib.axes import Axes"
   ]
  },
  {
   "cell_type": "markdown",
   "metadata": {},
   "source": [
    "# Step 1. Data Acquisition\n",
    "Load the data into a pandas DataFrame:"
   ]
  },
  {
   "cell_type": "code",
   "execution_count": 13,
   "metadata": {},
   "outputs": [
    {
     "name": "stdout",
     "output_type": "stream",
     "text": [
      "   total  speeding  alcohol  not_distracted  no_previous  ins_premium  \\\n",
      "0   18.8     7.332    5.640          18.048       15.040       784.55   \n",
      "1   18.1     7.421    4.525          16.290       17.014      1053.48   \n",
      "2   18.6     6.510    5.208          15.624       17.856       899.47   \n",
      "3   22.4     4.032    5.824          21.056       21.280       827.34   \n",
      "4   12.0     4.200    3.360          10.920       10.680       878.41   \n",
      "\n",
      "   ins_losses abbrev  \n",
      "0      145.08     AL  \n",
      "1      133.93     AK  \n",
      "2      110.35     AZ  \n",
      "3      142.39     AR  \n",
      "4      165.63     CA  \n"
     ]
    }
   ],
   "source": [
    "# Load the dataset into a pandas DataFrame \n",
    "df = sns.load_dataset('car_crashes')\n",
    "\n",
    "# Inspect first rows of the DataFrame\n",
    "print(df.head())"
   ]
  },
  {
   "cell_type": "markdown",
   "metadata": {},
   "source": [
    "# Step 2. Initial Data Inspection\n",
    "Display the first 10 rows of the DataFrame, check the shape, and display the data types of each column using df.head(10), df.shape, and df.dtypes:"
   ]
  },
  {
   "cell_type": "code",
   "execution_count": 14,
   "metadata": {},
   "outputs": [
    {
     "name": "stdout",
     "output_type": "stream",
     "text": [
      "   total  speeding  alcohol  not_distracted  no_previous  ins_premium  \\\n",
      "0   18.8     7.332    5.640          18.048       15.040       784.55   \n",
      "1   18.1     7.421    4.525          16.290       17.014      1053.48   \n",
      "2   18.6     6.510    5.208          15.624       17.856       899.47   \n",
      "3   22.4     4.032    5.824          21.056       21.280       827.34   \n",
      "4   12.0     4.200    3.360          10.920       10.680       878.41   \n",
      "5   13.6     5.032    3.808          10.744       12.920       835.50   \n",
      "6   10.8     4.968    3.888           9.396        8.856      1068.73   \n",
      "7   16.2     6.156    4.860          14.094       16.038      1137.87   \n",
      "8    5.9     2.006    1.593           5.900        5.900      1273.89   \n",
      "9   17.9     3.759    5.191          16.468       16.826      1160.13   \n",
      "\n",
      "   ins_losses abbrev  \n",
      "0      145.08     AL  \n",
      "1      133.93     AK  \n",
      "2      110.35     AZ  \n",
      "3      142.39     AR  \n",
      "4      165.63     CA  \n",
      "5      139.91     CO  \n",
      "6      167.02     CT  \n",
      "7      151.48     DE  \n",
      "8      136.05     DC  \n",
      "9      144.18     FL  \n",
      "(51, 8)\n",
      "total             float64\n",
      "speeding          float64\n",
      "alcohol           float64\n",
      "not_distracted    float64\n",
      "no_previous       float64\n",
      "ins_premium       float64\n",
      "ins_losses        float64\n",
      "abbrev             object\n",
      "dtype: object\n"
     ]
    }
   ],
   "source": [
    "\n",
    "print(df.head(10))\n",
    "print(df.shape)\n",
    "print(df.dtypes)"
   ]
  },
  {
   "cell_type": "markdown",
   "metadata": {},
   "source": [
    "# Step 3. Initial Descriptive Statistics\n",
    "Use the DataFrame describe() method to display summary statistics for each column:"
   ]
  },
  {
   "cell_type": "code",
   "execution_count": 15,
   "metadata": {},
   "outputs": [
    {
     "name": "stdout",
     "output_type": "stream",
     "text": [
      "           total   speeding    alcohol  not_distracted  no_previous  \\\n",
      "count  51.000000  51.000000  51.000000       51.000000    51.000000   \n",
      "mean   15.790196   4.998196   4.886784       13.573176    14.004882   \n",
      "std     4.122002   2.017747   1.729133        4.508977     3.764672   \n",
      "min     5.900000   1.792000   1.593000        1.760000     5.900000   \n",
      "25%    12.750000   3.766500   3.894000       10.478000    11.348000   \n",
      "50%    15.600000   4.608000   4.554000       13.857000    13.775000   \n",
      "75%    18.500000   6.439000   5.604000       16.140000    16.755000   \n",
      "max    23.900000   9.450000  10.038000       23.661000    21.280000   \n",
      "\n",
      "       ins_premium  ins_losses  \n",
      "count    51.000000   51.000000  \n",
      "mean    886.957647  134.493137  \n",
      "std     178.296285   24.835922  \n",
      "min     641.960000   82.750000  \n",
      "25%     768.430000  114.645000  \n",
      "50%     858.970000  136.050000  \n",
      "75%    1007.945000  151.870000  \n",
      "max    1301.520000  194.780000  \n"
     ]
    }
   ],
   "source": [
    "print(df.describe())"
   ]
  }
 ],
 "metadata": {
  "kernelspec": {
   "display_name": ".venv",
   "language": "python",
   "name": "python3"
  },
  "language_info": {
   "codemirror_mode": {
    "name": "ipython",
    "version": 3
   },
   "file_extension": ".py",
   "mimetype": "text/x-python",
   "name": "python",
   "nbconvert_exporter": "python",
   "pygments_lexer": "ipython3",
   "version": "3.13.1"
  }
 },
 "nbformat": 4,
 "nbformat_minor": 2
}
